{
 "cells": [
  {
   "cell_type": "markdown",
   "id": "intimate-reserve",
   "metadata": {},
   "source": [
    "## PHYS 105A:  Introduction to Scientific Computing\n",
    "\n",
    "# Minimization or Maximization\n",
    "\n",
    "In this assignment, we will modify the gradient descent method and use it to solve for perform curve fitting."
   ]
  },
  {
   "cell_type": "markdown",
   "id": "coated-crest",
   "metadata": {},
   "source": [
    "* In this assignment, we will model that we are working on experiment.\n",
    "\n",
    "* We will generate mock data that we know the underlaying funciton with noise.\n",
    "\n",
    "* We will then fit a polynomial to it."
   ]
  },
  {
   "cell_type": "code",
   "execution_count": 1,
   "id": "looking-netscape",
   "metadata": {},
   "outputs": [],
   "source": [
    "# Step 1. Import Libraries\n",
    "\n",
    "import numpy as np\n",
    "from matplotlib import pyplot as plt"
   ]
  },
  {
   "cell_type": "code",
   "execution_count": 2,
   "id": "coated-eligibility",
   "metadata": {},
   "outputs": [
    {
     "data": {
      "text/plain": [
       "[<matplotlib.lines.Line2D at 0x15055dee0>]"
      ]
     },
     "execution_count": 2,
     "metadata": {},
     "output_type": "execute_result"
    },
    {
     "data": {
      "image/png": "[encoded data removed]",
      "text/plain": [
       "<Figure size 432x288 with 1 Axes>"
      ]
     },
     "metadata": {
      "needs_background": "light"
     },
     "output_type": "display_data"
    }
   ],
   "source": [
    "# Step 2. Create our model and add noise to it.\n",
    "\n",
    "def boxcar(t):\n",
    "    return -10 + 2 * t\n",
    "\n",
    "N = 101\n",
    "T = np.linspace(0, 10, N)\n",
    "X = boxcar(T) + np.random.normal(size=N)\n",
    "\n",
    "plt.plot(X)"
   ]
  },
  {
   "cell_type": "code",
   "execution_count": 3,
   "id": "different-lighter",
   "metadata": {},
   "outputs": [],
   "source": [
    "# Step 3. Copy the minimization method that we implemented during the lecture\n",
    "#\n",
    "# In the lecture, we want to fit f(x) or f(x, y).  What variables we want to fit here?\n",
    "\n",
    "def minimize(f, f_x, f_y, x, y, alpha, acc=1e-3, nmax=1000):\n",
    "    l = np.array([x, y])\n",
    "    for i in range(nmax):\n",
    "        z   = f(x, y)\n",
    "        z_x = f_x(x, y)\n",
    "        z_y = f_y(x, y)\n",
    "        if z_x*z_x + z_y*z_y <= acc * acc:\n",
    "            return l\n",
    "        if i % 2 == 0:\n",
    "            x -= alpha * z_x\n",
    "        else:\n",
    "            y -= alpha * z_y\n",
    "        l = np.vstack((l, [x, y]))\n",
    "            \n",
    "    raise Exception(\"Too many iterations\", l)\n",
    "    \n",
    "# What input do we need to perform curve fitting?"
   ]
  },
  {
   "cell_type": "code",
   "execution_count": 4,
   "id": "racial-pointer",
   "metadata": {},
   "outputs": [],
   "source": [
    "# Step 4. Define what we need for curve fitting\n",
    "#\n",
    "# Note that our minimization code only works for two variables.\n",
    "# Which two variables do we want to use?\n",
    "#\n",
    "# Hint: by using closure in python,\n",
    "# we don't need to use T and X as function arguments!\n",
    "\n",
    "def chisq(a, b):\n",
    "    return np.mean((a + b * T - X)**2)\n",
    "\n",
    "def chisq_a(a, b):\n",
    "    return 2 * np.mean(a + b * T - X)\n",
    "    \n",
    "def chisq_b(a, b):\n",
    "    return 2 * np.mean((a + b * T - X) * T)"
   ]
  },
  {
   "cell_type": "code",
   "execution_count": 5,
   "id": "parliamentary-january",
   "metadata": {
    "scrolled": true
   },
   "outputs": [
    {
     "name": "stdout",
     "output_type": "stream",
     "text": [
      "Failed\n",
      "[[ 0.00000000e+00  0.00000000e+00]\n",
      " [-1.91166192e-03  0.00000000e+00]\n",
      " [-1.91166192e-03  3.45506655e+00]\n",
      " ...\n",
      " [            nan             nan]\n",
      " [            nan             nan]\n",
      " [            nan             nan]]\n"
     ]
    },
    {
     "name": "stderr",
     "output_type": "stream",
     "text": [
      "/opt/local/Library/Frameworks/Python.framework/Versions/3.8/lib/python3.8/site-packages/numpy/core/_methods.py:178: RuntimeWarning: overflow encountered in reduce\n",
      "  ret = umr_sum(arr, axis, dtype, out, keepdims, where=where)\n",
      "<ipython-input-3-deff150af7d8>:11: RuntimeWarning: overflow encountered in double_scalars\n",
      "  if z_x*z_x + z_y*z_y <= acc * acc:\n",
      "<ipython-input-4-da155ad09e75>:10: RuntimeWarning: overflow encountered in square\n",
      "  return np.mean((a + b * T - X)**2)\n",
      "<ipython-input-4-da155ad09e75>:10: RuntimeWarning: invalid value encountered in multiply\n",
      "  return np.mean((a + b * T - X)**2)\n",
      "<ipython-input-4-da155ad09e75>:13: RuntimeWarning: invalid value encountered in multiply\n",
      "  return 2 * np.mean(a + b * T - X)\n",
      "<ipython-input-4-da155ad09e75>:16: RuntimeWarning: invalid value encountered in multiply\n",
      "  return 2 * np.mean((a + b * T - X) * T)\n"
     ]
    }
   ],
   "source": [
    "# Step 5. Fit the curve\n",
    "\n",
    "try:\n",
    "    l1 = minimize(chisq, chisq_a, chisq_b, 0, 0, 0.1)\n",
    "except Exception as e:\n",
    "    print('Failed')\n",
    "    l1 = e.args[1]\n",
    "    \n",
    "print(l1)"
   ]
  },
  {
   "cell_type": "code",
   "execution_count": 6,
   "id": "recovered-validity",
   "metadata": {},
   "outputs": [
    {
     "name": "stdout",
     "output_type": "stream",
     "text": [
      "Failed\n",
      "[[ 0.00000000e+00  0.00000000e+00]\n",
      " [-1.91166192e-04  0.00000000e+00]\n",
      " [-1.91166192e-04  3.45334606e-01]\n",
      " ...\n",
      " [-9.36763607e+00  1.91324256e+00]\n",
      " [-9.37179877e+00  1.91324256e+00]\n",
      " [-9.37179877e+00  1.91386541e+00]]\n"
     ]
    }
   ],
   "source": [
    "# Step 6. Adjust the initial guess and step size\n",
    "\n",
    "try:\n",
    "    l1 = minimize(chisq, chisq_a, chisq_b, 0, 0, 0.01)\n",
    "except Exception as e:\n",
    "    print('Failed')\n",
    "    l1 = e.args[1]\n",
    "    \n",
    "print(l1)"
   ]
  },
  {
   "cell_type": "code",
   "execution_count": 7,
   "id": "forced-soundtrack",
   "metadata": {
    "scrolled": false
   },
   "outputs": [
    {
     "data": {
      "text/plain": [
       "[<matplotlib.lines.Line2D at 0x150661580>]"
      ]
     },
     "execution_count": 7,
     "metadata": {},
     "output_type": "execute_result"
    },
    {
     "data": {
      "image/png": "[encoded data removed]",
      "text/plain": [
       "<Figure size 432x288 with 1 Axes>"
      ]
     },
     "metadata": {
      "needs_background": "light"
     },
     "output_type": "display_data"
    }
   ],
   "source": [
    "# Step 7. Overplot the data and the results\n",
    "\n",
    "a, b = l1[-1,:]\n",
    "\n",
    "plt.plot(T, X)\n",
    "plt.plot(T, a + b * T)"
   ]
  },
  {
   "cell_type": "markdown",
   "id": "nervous-universe",
   "metadata": {},
   "source": [
    "## Question\n",
    "\n",
    "We learned in the lecture, and tried it in this assignment that the step size is important.  If we choose too small a step size, the numerical scheme may be unstable and oscillate around the true solution forever.\n",
    "\n",
    "Can we simply always choose a very small step size?  What are the advantage and disadvantage of it?\n",
    "\n",
    "Describe a strategy to adjust the step size so that the minimizer is more robust.\n",
    "\n",
    "Please write down your answer in the next cell."
   ]
  },
  {
   "cell_type": "markdown",
   "id": "congressional-entertainment",
   "metadata": {},
   "source": [
    "..."
   ]
  }
 ],
 "metadata": {
  "kernelspec": {
   "display_name": "Python 3",
   "language": "python",
   "name": "python3"
  },
  "language_info": {
   "codemirror_mode": {
    "name": "ipython",
    "version": 3
   },
   "file_extension": ".py",
   "mimetype": "text/x-python",
   "name": "python",
   "nbconvert_exporter": "python",
   "pygments_lexer": "ipython3",
   "version": "3.8.9"
  }
 },
 "nbformat": 4,
 "nbformat_minor": 5
}
