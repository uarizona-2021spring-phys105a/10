{
 "cells": [
  {
   "cell_type": "markdown",
   "id": "intimate-reserve",
   "metadata": {},
   "source": [
    "## PHYS 105A:  Introduction to Scientific Computing\n",
    "\n",
    "# Minimization or Maximization\n",
    "\n",
    "In this assignment, we will modify the gradient descent method and use it to solve for perform curve fitting."
   ]
  },
  {
   "cell_type": "markdown",
   "id": "coated-crest",
   "metadata": {},
   "source": [
    "* In this assignment, we will model that we are working on experiment.\n",
    "\n",
    "* We will generate mock data that we know the underlaying funciton with noise.\n",
    "\n",
    "* We will then fit a polynomial to it."
   ]
  },
  {
   "cell_type": "code",
   "execution_count": 1,
   "id": "looking-netscape",
   "metadata": {},
   "outputs": [],
   "source": [
    "# Step 1. Import Libraries\n",
    "\n",
    "import numpy as np\n",
    "from matplotlib import pyplot as plt"
   ]
  },
  {
   "cell_type": "code",
   "execution_count": 2,
   "id": "coated-eligibility",
   "metadata": {},
   "outputs": [
    {
     "data": {
      "text/plain": [
       "[<matplotlib.lines.Line2D at 0x15b3a4070>]"
      ]
     },
     "execution_count": 2,
     "metadata": {},
     "output_type": "execute_result"
    },
    {
     "data": {
      "image/png": "[encoded data removed]",
      "text/plain": [
       "<Figure size 432x288 with 1 Axes>"
      ]
     },
     "metadata": {
      "needs_background": "light"
     },
     "output_type": "display_data"
    }
   ],
   "source": [
    "# Step 2. Create our model and add noise to it.\n",
    "\n",
    "def boxcar(t):\n",
    "    return -10 + 2 * t\n",
    "\n",
    "N = 101\n",
    "T = np.linspace(0, 10, N)\n",
    "X = boxcar(T) + np.random.normal(size=N)\n",
    "\n",
    "plt.plot(X)"
   ]
  },
  {
   "cell_type": "code",
   "execution_count": 3,
   "id": "different-lighter",
   "metadata": {},
   "outputs": [],
   "source": [
    "# Step 3. Copy the minimization method that we implemented during the lecture\n",
    "#\n",
    "# In the lecture, we want to fit f(x) or f(x, y).  What variables we want to fit here?\n",
    "\n",
    "________\n",
    "    \n",
    "# What input do we need to perform curve fitting?"
   ]
  },
  {
   "cell_type": "code",
   "execution_count": 4,
   "id": "racial-pointer",
   "metadata": {},
   "outputs": [],
   "source": [
    "# Step 4. Define what we need for curve fitting\n",
    "#\n",
    "# Note that our minimization code only works for two variables.\n",
    "# Which two variables do we want to use?\n",
    "#\n",
    "# Hint: by using closure in python,\n",
    "# we don't need to use T and X as function arguments!\n",
    "\n",
    "def chisq(________, ________):\n",
    "    return ________\n",
    "\n",
    "def chisq_a(________, ________):\n",
    "    return ________\n",
    "    \n",
    "def chisq_b(________, ________):\n",
    "    return ________"
   ]
  },
  {
   "cell_type": "code",
   "execution_count": 5,
   "id": "parliamentary-january",
   "metadata": {},
   "outputs": [
    {
     "name": "stdout",
     "output_type": "stream",
     "text": [
      "Failed\n",
      "[[ 0.          0.        ]\n",
      " [-0.02940094  0.        ]\n",
      " [-0.02940094  3.25796338]\n",
      " ...\n",
      " [        nan         nan]\n",
      " [        nan         nan]\n",
      " [        nan         nan]]\n"
     ]
    },
    {
     "name": "stderr",
     "output_type": "stream",
     "text": [
      "/opt/local/Library/Frameworks/Python.framework/Versions/3.8/lib/python3.8/site-packages/numpy/core/_methods.py:178: RuntimeWarning: overflow encountered in reduce\n",
      "  ret = umr_sum(arr, axis, dtype, out, keepdims, where=where)\n",
      "<ipython-input-3-c8f78c972720>:9: RuntimeWarning: overflow encountered in double_scalars\n",
      "  if z_x*z_x + z_y*z_y <= acc * acc:\n",
      "<ipython-input-4-913368eeeaaf>:7: RuntimeWarning: overflow encountered in square\n",
      "  return np.mean((a + b * T - X)**2)\n",
      "<ipython-input-4-913368eeeaaf>:7: RuntimeWarning: invalid value encountered in multiply\n",
      "  return np.mean((a + b * T - X)**2)\n",
      "<ipython-input-4-913368eeeaaf>:10: RuntimeWarning: invalid value encountered in multiply\n",
      "  return 2 * np.mean(a + b * T - X)\n",
      "<ipython-input-4-913368eeeaaf>:13: RuntimeWarning: invalid value encountered in multiply\n",
      "  return 2 * np.mean((a + b * T - X) * T)\n"
     ]
    }
   ],
   "source": [
    "# Step 5. Fit the curve\n",
    "\n",
    "try:\n",
    "    l1 = minimize(chisq, chisq_a, chisq_b, 0, 0, 0.1)\n",
    "except Exception as e:\n",
    "    print('Failed')\n",
    "    l1 = e.args[1]\n",
    "    \n",
    "print(l1)"
   ]
  },
  {
   "cell_type": "code",
   "execution_count": 6,
   "id": "recovered-validity",
   "metadata": {},
   "outputs": [
    {
     "name": "stdout",
     "output_type": "stream",
     "text": [
      "Failed\n",
      "[[ 0.00000000e+00  0.00000000e+00]\n",
      " [-2.94009376e-03  0.00000000e+00]\n",
      " [-2.94009376e-03  3.23150253e-01]\n",
      " ...\n",
      " [-9.25873668e+00  1.86347138e+00]\n",
      " [-9.26284918e+00  1.86347138e+00]\n",
      " [-9.26284918e+00  1.86408672e+00]]\n"
     ]
    }
   ],
   "source": [
    "# Step 6. Adjust the initial guess and step size\n",
    "\n",
    "try:\n",
    "    l1 = minimize(chisq, chisq_a, chisq_b, ________, ________, ________)\n",
    "except Exception as e:\n",
    "    print('Failed')\n",
    "    l1 = e.args[1]\n",
    "    \n",
    "print(l1)"
   ]
  },
  {
   "cell_type": "code",
   "execution_count": 7,
   "id": "forced-soundtrack",
   "metadata": {
    "scrolled": true
   },
   "outputs": [
    {
     "data": {
      "text/plain": [
       "[<matplotlib.lines.Line2D at 0x15b4985b0>]"
      ]
     },
     "execution_count": 7,
     "metadata": {},
     "output_type": "execute_result"
    },
    {
     "data": {
      "image/png": "[encoded data removed]",
      "text/plain": [
       "<Figure size 432x288 with 1 Axes>"
      ]
     },
     "metadata": {
      "needs_background": "light"
     },
     "output_type": "display_data"
    }
   ],
   "source": [
    "# Step 7. Overplot the data and the results\n",
    "\n",
    "a, b = ________\n",
    "\n",
    "plt.plot(T, X)\n",
    "plt.plot(T, a + b * T)"
   ]
  },
  {
   "cell_type": "markdown",
   "id": "experimental-blogger",
   "metadata": {},
   "source": [
    "## Question\n",
    "\n",
    "We learned in the lecture, and tried it in this assignment that the step size is important.  If we choose too small a step size, the numerical scheme may be unstable and oscillate around the true solution forever.\n",
    "\n",
    "Can we simply always choose a very small step size?  What are the advantage and disadvantage of it?\n",
    "\n",
    "Describe a strategy to adjust the step size so that the minimizer is more robust.\n",
    "\n",
    "Please write down your answer in the next cell."
   ]
  },
  {
   "cell_type": "markdown",
   "id": "married-hobby",
   "metadata": {},
   "source": [
    "#________"
   ]
  }
 ],
 "metadata": {
  "kernelspec": {
   "display_name": "Python 3",
   "language": "python",
   "name": "python3"
  },
  "language_info": {
   "codemirror_mode": {
    "name": "ipython",
    "version": 3
   },
   "file_extension": ".py",
   "mimetype": "text/x-python",
   "name": "python",
   "nbconvert_exporter": "python",
   "pygments_lexer": "ipython3",
   "version": "3.8.8"
  }
 },
 "nbformat": 4,
 "nbformat_minor": 5
}
